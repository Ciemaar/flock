{
 "cells": [
  {
   "cell_type": "markdown",
   "metadata": {
    "slideshow": {
     "slide_type": "slide"
    }
   },
   "source": [
    "# What to do with a Flock of lambdas\n",
    "\n",
    "* Library and talk by Andy Fundinger\n",
    "* Ciemaar@fundinger.name\n",
    "* Bloomberg Senior Engineer"
   ]
  },
  {
   "cell_type": "markdown",
   "metadata": {
    "slideshow": {
     "slide_type": "fragment"
    }
   },
   "source": [
    "## What is flock good for?\n",
    "\n",
    "Usually I get that question at the end so, to save time I'm putting it at the beginning\n",
    "\n",
    "* it's fun\n",
    "* similar to a spreadsheet\n",
    "* dealing with poorly defined mathematical systems; like taxes and roleplaying games"
   ]
  },
  {
   "cell_type": "markdown",
   "metadata": {
    "slideshow": {
     "slide_type": "slide"
    }
   },
   "source": [
    "### Some normal functions"
   ]
  },
  {
   "cell_type": "code",
   "execution_count": 24,
   "metadata": {
    "slideshow": {
     "slide_type": "-"
    }
   },
   "outputs": [
    {
     "data": {
      "text/plain": [
       "4"
      ]
     },
     "execution_count": 24,
     "metadata": {},
     "output_type": "execute_result"
    }
   ],
   "source": [
    "def func(x):\n",
    "    return x+4\n",
    "\n",
    "func = lambda x: x+4\n",
    "\n",
    "const_four = lambda: 4 # a constant lambda\n",
    "\n",
    "const_four()"
   ]
  },
  {
   "cell_type": "markdown",
   "metadata": {
    "slideshow": {
     "slide_type": "subslide"
    }
   },
   "source": [
    "### Some closures"
   ]
  },
  {
   "cell_type": "code",
   "execution_count": 25,
   "metadata": {
    "slideshow": {
     "slide_type": "-"
    }
   },
   "outputs": [
    {
     "data": {
      "text/plain": [
       "'PyLondinium'"
      ]
     },
     "execution_count": 25,
     "metadata": {},
     "output_type": "execute_result"
    }
   ],
   "source": [
    "ll       = ['PyCon', 'PyGotham', 'PyLondinium', 'PyTennessee', 'PyOhio']\n",
    "\n",
    "item_two = lambda: ll[2]\n",
    "\n",
    "item_two()"
   ]
  },
  {
   "cell_type": "code",
   "execution_count": 26,
   "metadata": {
    "slideshow": {
     "slide_type": "fragment"
    }
   },
   "outputs": [
    {
     "data": {
      "text/plain": [
       "'PyGotham'"
      ]
     },
     "execution_count": 26,
     "metadata": {},
     "output_type": "execute_result"
    }
   ],
   "source": [
    "ll[1], ll[2] = ll[2], ll[1]\n",
    "\n",
    "item_two()"
   ]
  },
  {
   "cell_type": "markdown",
   "metadata": {
    "slideshow": {
     "slide_type": "slide"
    }
   },
   "source": [
    "## Ok, enough of that, let's switch to dictionaries\n",
    "\n",
    "We're going to make some closures and put them in the same dictionary that is inside them.\n",
    "\n",
    "It's all references, so there's no particular problem here"
   ]
  },
  {
   "cell_type": "code",
   "execution_count": 27,
   "metadata": {
    "slideshow": {
     "slide_type": "subslide"
    }
   },
   "outputs": [
    {
     "data": {
      "text/plain": [
       "(3000, 262.5, 3262.5)"
      ]
     },
     "execution_count": 27,
     "metadata": {},
     "output_type": "execute_result"
    }
   ],
   "source": [
    "invoice  = dict()\n",
    "invoice['qty']       = lambda: 30\n",
    "invoice['price']     = lambda: 100\n",
    "invoice['sub_total'] = lambda: invoice['qty']() * invoice['price']()\n",
    "invoice['tax_rate']  = lambda: .06625  # NJ Sales Tax\n",
    "invoice['tax']       = lambda: invoice['sub_total']() * invoice['tax_rate']()\n",
    "invoice['total']     = lambda: invoice['sub_total']() + invoice['tax']()\n",
    "\n",
    "invoice['sub_total'](), invoice['tax'](), invoice['total']() "
   ]
  },
  {
   "cell_type": "code",
   "execution_count": 28,
   "metadata": {
    "slideshow": {
     "slide_type": "fragment"
    }
   },
   "outputs": [
    {
     "data": {
      "text/plain": [
       "262.5"
      ]
     },
     "execution_count": 28,
     "metadata": {},
     "output_type": "execute_result"
    }
   ],
   "source": [
    "invoice['tax']()"
   ]
  },
  {
   "cell_type": "markdown",
   "metadata": {
    "slideshow": {
     "slide_type": "fragment"
    }
   },
   "source": [
    "### But we're in New York so sales tax is 8.75%"
   ]
  },
  {
   "cell_type": "code",
   "execution_count": 29,
   "metadata": {
    "slideshow": {
     "slide_type": "-"
    }
   },
   "outputs": [
    {
     "data": {
      "text/plain": [
       "(240.0, 3240.0)"
      ]
     },
     "execution_count": 29,
     "metadata": {},
     "output_type": "execute_result"
    }
   ],
   "source": [
    "invoice['tax_rate'] = lambda: .0875 # New York City Tax\n",
    "\n",
    "invoice['tax'](), invoice['total']() "
   ]
  },
  {
   "cell_type": "markdown",
   "metadata": {
    "slideshow": {
     "slide_type": "slide"
    }
   },
   "source": [
    "# Fine, it's a neat trick, lets clean it up\n",
    "\n",
    "* storing a constant should not require the creation of a constant lambda\n",
    "* we know we want to call the function whenever we access it, so we'll build that in \n",
    "* we may have some caching eventually so let's be ready for that"
   ]
  },
  {
   "cell_type": "code",
   "execution_count": 30,
   "metadata": {
    "slideshow": {
     "slide_type": "subslide"
    }
   },
   "outputs": [
    {
     "data": {
      "text/plain": [
       "(3000, 262.5, 3262.5)"
      ]
     },
     "execution_count": 30,
     "metadata": {},
     "output_type": "execute_result"
    }
   ],
   "source": [
    "import flock\n",
    "\n",
    "invoice  = flock.FlockDict()\n",
    "invoice['qty']       = 30\n",
    "invoice['price']     = 100\n",
    "invoice['tax_rate']  = .0875\n",
    "invoice['sub_total'] = lambda: invoice['qty'] * invoice['price']\n",
    "invoice['tax']       = lambda: invoice['sub_total'] * invoice['tax_rate']\n",
    "invoice['total']     = lambda: invoice['sub_total'] + invoice['tax']\n",
    "\n",
    "invoice['sub_total'], invoice['tax'], invoice['total']"
   ]
  },
  {
   "cell_type": "markdown",
   "metadata": {
    "slideshow": {
     "slide_type": "slide"
    }
   },
   "source": [
    "## But if we're here, lets add some tricks\n",
    "\n",
    "The aggregator lets us work across parallel maps"
   ]
  },
  {
   "cell_type": "code",
   "execution_count": 37,
   "metadata": {
    "slideshow": {
     "slide_type": "subslide"
    }
   },
   "outputs": [
    {
     "data": {
      "text/plain": [
       "(748, 65.45, 813.45)"
      ]
     },
     "execution_count": 37,
     "metadata": {},
     "output_type": "execute_result"
    }
   ],
   "source": [
    "import flock.core\n",
    "\n",
    "invoice  = flock.FlockDict()\n",
    "invoice['qty']       = {1:2,  2:3,  3:5,  4:7, 5:11}\n",
    "invoice['price_ea']  = {1:30, 2:60, 3:90, 4:2, 5:4 }\n",
    "invoice['tax_rate']  = .0875\n",
    "\n",
    "# Aggregator\n",
    "invoice['price']     = flock.core.FlockAggregator([invoice['qty'],invoice['price_ea']], lambda x: x[0]*x[1])\n",
    "invoice['sub_total'] = lambda: sum(pr for pr in invoice['price'].values())\n",
    "invoice['tax']       = lambda: invoice['sub_total'] * invoice['tax_rate']\n",
    "invoice['total']     = lambda: invoice['sub_total'] + invoice['tax']\n",
    "\n",
    "invoice['sub_total'], invoice['tax'], invoice['total']"
   ]
  },
  {
   "cell_type": "code",
   "execution_count": 38,
   "metadata": {
    "slideshow": {
     "slide_type": "fragment"
    }
   },
   "outputs": [
    {
     "data": {
      "text/plain": [
       "450"
      ]
     },
     "execution_count": 38,
     "metadata": {},
     "output_type": "execute_result"
    }
   ],
   "source": [
    "invoice['price'][3]"
   ]
  },
  {
   "cell_type": "code",
   "execution_count": 39,
   "metadata": {
    "slideshow": {
     "slide_type": "fragment"
    }
   },
   "outputs": [
    {
     "data": {
      "text/plain": [
       "(472.5, 837.91875)"
      ]
     },
     "execution_count": 39,
     "metadata": {},
     "output_type": "execute_result"
    }
   ],
   "source": [
    "invoice['price_ea'][3] *= 1.05\n",
    "invoice['price'][3], invoice['total']"
   ]
  },
  {
   "cell_type": "code",
   "execution_count": 40,
   "metadata": {
    "slideshow": {
     "slide_type": "subslide"
    }
   },
   "outputs": [
    {
     "data": {
      "text/plain": [
       "OrderedDict([('price', {1: 60, 2: 180, 3: 472.5, 4: 14, 5: 44}),\n",
       "             ('price_ea',\n",
       "              OrderedDict([(1, 30), (2, 60), (3, 94.5), (4, 2), (5, 4)])),\n",
       "             ('qty', OrderedDict([(1, 2), (2, 3), (3, 5), (4, 7), (5, 11)])),\n",
       "             ('sub_total', 770.5),\n",
       "             ('tax', 67.41874999999999),\n",
       "             ('tax_rate', 0.0875),\n",
       "             ('total', 837.91875)])"
      ]
     },
     "execution_count": 40,
     "metadata": {},
     "output_type": "execute_result"
    }
   ],
   "source": [
    "invoice.shear()"
   ]
  },
  {
   "cell_type": "markdown",
   "metadata": {
    "slideshow": {
     "slide_type": "slide"
    }
   },
   "source": [
    "## GitHub etc.\n",
    "\n",
    "* https://github.com/Ciemaar/flock\n",
    "* Ciemaar@fundinger.name\n",
    "* Follow us on Twitter: [@TechAtBloomberg](http://www.twitter.com/TechAtBloomberg)"
   ]
  },
  {
   "cell_type": "markdown",
   "metadata": {
    "collapsed": true,
    "slideshow": {
     "slide_type": "fragment"
    }
   },
   "source": [
    "## What is this good for?\n",
    "\n",
    "* I'd love to hear what you suggest\n",
    "* certain kinds of models\n",
    "* dealing with poorly defined mathematical systems; like taxes and roleplaying games"
   ]
  },
  {
   "cell_type": "code",
   "execution_count": 34,
   "metadata": {
    "slideshow": {
     "slide_type": "slide"
    }
   },
   "outputs": [
    {
     "data": {
      "text/plain": [
       "OrderedDict([('available',\n",
       "              OrderedDict([('heroic', 14),\n",
       "                           ('mental', -0.5),\n",
       "                           ('physical', -8.0),\n",
       "                           ('universal', 1.5)])),\n",
       "             ('spent',\n",
       "              OrderedDict([('heroic', 85),\n",
       "                           ('mental', 14),\n",
       "                           ('physical', 17),\n",
       "                           ('universal', 8.5)])),\n",
       "             ('total',\n",
       "              OrderedDict([('heroic', 99),\n",
       "                           ('mental', 13.5),\n",
       "                           ('physical', 9.0),\n",
       "                           ('universal', 10)]))])"
      ]
     },
     "execution_count": 34,
     "metadata": {},
     "output_type": "execute_result"
    }
   ],
   "source": [
    "from mythica.model import *\n",
    "import yaml\n",
    "\n",
    "char = FlockDict()\n",
    "for key, value in yaml.load(open('dram.yaml')).items():\n",
    "    char[key] = value\n",
    "\n",
    "apply_rules(char)\n",
    "char['points'].shear()"
   ]
  }
 ],
 "metadata": {
  "celltoolbar": "Slideshow",
  "kernelspec": {
   "display_name": "Python 3",
   "language": "python",
   "name": "python3"
  },
  "language_info": {
   "codemirror_mode": {
    "name": "ipython",
    "version": 3
   },
   "file_extension": ".py",
   "mimetype": "text/x-python",
   "name": "python",
   "nbconvert_exporter": "python",
   "pygments_lexer": "ipython3",
   "version": "3.6.5"
  }
 },
 "nbformat": 4,
 "nbformat_minor": 2
}
